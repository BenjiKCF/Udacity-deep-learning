{
 "cells": [
  {
   "cell_type": "code",
   "execution_count": 1,
   "metadata": {
    "collapsed": true
   },
   "outputs": [],
   "source": [
    "import tensorflow as tf\n",
    "import numpy as np"
   ]
  },
  {
   "cell_type": "markdown",
   "metadata": {},
   "source": [
    "List out our bandits\n",
    "\n",
    "bandit4 (index3) is set to provide a positive reward"
   ]
  },
  {
   "cell_type": "code",
   "execution_count": 2,
   "metadata": {
    "collapsed": true
   },
   "outputs": [],
   "source": [
    "bandits = [0.2, 0, -0.2, -5]\n",
    "num_bandits = len(bandits)"
   ]
  },
  {
   "cell_type": "markdown",
   "metadata": {},
   "source": [
    "if random number is greater than result, return 1"
   ]
  },
  {
   "cell_type": "code",
   "execution_count": 3,
   "metadata": {
    "collapsed": true
   },
   "outputs": [],
   "source": [
    "def pullBandit(bandit):\n",
    "    # Get a random number\n",
    "    result = np.random.randn(1)\n",
    "    if result > bandit:\n",
    "        return 1\n",
    "    else:\n",
    "        return -1"
   ]
  },
  {
   "cell_type": "markdown",
   "metadata": {},
   "source": [
    "loss = - log(policy) * reward "
   ]
  },
  {
   "cell_type": "code",
   "execution_count": 8,
   "metadata": {
    "collapsed": true
   },
   "outputs": [],
   "source": [
    "# init our agent\n",
    "tf.reset_default_graph()\n",
    "    # Establish the feedforward part of the network\n",
    "    # this does the actual choosing\n",
    "\n",
    "weights = tf.Variable(tf.ones([num_bandits]))\n",
    "chosen_action = tf.argmax(weights, 0)\n",
    "\n",
    "# the next 6 lines establish the training procedure\n",
    "# We feed the reward to compute the loss\n",
    "reward_holder = tf.placeholder(shape=[1], dtype=tf.float32)\n",
    "action_holder = tf.placeholder(shape=[1], dtype=tf.int32)\n",
    "responsible_weight = tf.slice(weights, action_holder, [1])\n",
    "loss = -(tf.log(responsible_weight) * reward_holder)\n",
    "optimizer = tf.train.GradientDescentOptimizer(learning_rate=0.001)\n",
    "update = optimizer.minimize(loss)"
   ]
  },
  {
   "cell_type": "markdown",
   "metadata": {},
   "source": [
    "if randint > 0.1, action = random bandit\n",
    "else chosen action (which is weight / 0 whichever is larger)"
   ]
  },
  {
   "cell_type": "code",
   "execution_count": 10,
   "metadata": {},
   "outputs": [
    {
     "name": "stdout",
     "output_type": "stream",
     "text": [
      "WARNING:tensorflow:From <ipython-input-10-ad7454a245bb>:6: initialize_all_variables (from tensorflow.python.ops.variables) is deprecated and will be removed after 2017-03-02.\n",
      "Instructions for updating:\n",
      "Use `tf.global_variables_initializer` instead.\n",
      "Running reward for the 4 bandits: [ 0. -1.  0.  0.]\n",
      "Running reward for the 4 bandits: [ -4.  -2.   2.  25.]\n",
      "Running reward for the 4 bandits: [ -7.  -2.   4.  50.]\n",
      "Running reward for the 4 bandits: [ -9.  -1.   1.  78.]\n",
      "Running reward for the 4 bandits: [ -11.    0.    2.  104.]\n",
      "Running reward for the 4 bandits: [ -12.    3.   -1.  139.]\n",
      "Running reward for the 4 bandits: [ -15.    3.   -2.  169.]\n",
      "Running reward for the 4 bandits: [ -23.   -4.   -3.  195.]\n",
      "Running reward for the 4 bandits: [ -21.   -2.    0.  226.]\n",
      "Running reward for the 4 bandits: [ -24.   -2.    0.  257.]\n",
      "Running reward for the 4 bandits: [ -22.    6.    2.  283.]\n",
      "Running reward for the 4 bandits: [ -24.   11.    5.  313.]\n",
      "Running reward for the 4 bandits: [ -27.    8.    6.  340.]\n",
      "Running reward for the 4 bandits: [ -28.    7.    8.  370.]\n",
      "Running reward for the 4 bandits: [ -26.    0.    6.  397.]\n",
      "Running reward for the 4 bandits: [ -29.   -1.    4.  425.]\n",
      "Running reward for the 4 bandits: [ -25.    1.    0.  461.]\n",
      "Running reward for the 4 bandits: [ -20.    4.    0.  497.]\n",
      "Running reward for the 4 bandits: [ -20.   -1.    2.  530.]\n",
      "Running reward for the 4 bandits: [ -22.    2.    1.  556.]\n",
      "The agent thinks bandit 4is the most promising....\n",
      "...and it was right!\n"
     ]
    }
   ],
   "source": [
    "# train the agent\n",
    "total_episodes = 1000\n",
    "total_reward = np.zeros(num_bandits)\n",
    "e = 0.1\n",
    "\n",
    "init = tf.initialize_all_variables()\n",
    "\n",
    "with tf.Session() as sess:\n",
    "    sess.run(init)\n",
    "    i=0\n",
    "    \n",
    "    while i < total_episodes:\n",
    "        if np.random.randn(1) < e:\n",
    "            action = np.random.randint(num_bandits)\n",
    "        else:\n",
    "            action = sess.run(chosen_action)\n",
    "        reward = pullBandit(bandits[action])\n",
    "        \n",
    "        _, resp, ww = sess.run([update, responsible_weight, weights], feed_dict={reward_holder:[reward], \n",
    "                                                                                 action_holder:[action]})\n",
    "        total_reward[action] += reward\n",
    "        if i % 50 ==0:\n",
    "            print (\"Running reward for the \"\n",
    "            + str(num_bandits) + \" bandits: \" + str(total_reward))\n",
    "            \n",
    "        i+=1\n",
    "\n",
    "print (\"The agent thinks bandit \" + str(np.argmax(ww)+1) + \"is the most promising....\")\n",
    "if np.argmax(ww) == np.argmax(-np.array(bandits)):\n",
    "    print (\"...and it was right!\")\n",
    "else:\n",
    "    print (\"...and it was wrong!\")\n",
    "        \n",
    "        \n",
    "    "
   ]
  },
  {
   "cell_type": "code",
   "execution_count": null,
   "metadata": {
    "collapsed": true
   },
   "outputs": [],
   "source": []
  }
 ],
 "metadata": {
  "kernelspec": {
   "display_name": "Python 3",
   "language": "python",
   "name": "python3"
  },
  "language_info": {
   "codemirror_mode": {
    "name": "ipython",
    "version": 3
   },
   "file_extension": ".py",
   "mimetype": "text/x-python",
   "name": "python",
   "nbconvert_exporter": "python",
   "pygments_lexer": "ipython3",
   "version": "3.5.3"
  }
 },
 "nbformat": 4,
 "nbformat_minor": 2
}
