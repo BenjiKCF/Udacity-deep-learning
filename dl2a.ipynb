{
 "cells": [
  {
   "cell_type": "markdown",
   "metadata": {},
   "source": [
    "# Import module"
   ]
  },
  {
   "cell_type": "code",
   "execution_count": 1,
   "metadata": {
    "collapsed": true
   },
   "outputs": [],
   "source": [
    "from numpy import exp, array, random, dot"
   ]
  },
  {
   "cell_type": "markdown",
   "metadata": {},
   "source": [
    "# Neural Network"
   ]
  },
  {
   "cell_type": "code",
   "execution_count": 2,
   "metadata": {
    "collapsed": true
   },
   "outputs": [],
   "source": [
    "class NeuralNetwork():\n",
    "    def __init__(self):\n",
    "    # seed the random number generator so it generates the same numbers\n",
    "    # every time the program runs\n",
    "        random.seed(1)\n",
    "    # Single neuron with 3 input connections and 1 output connection.\n",
    "    # Assign random weights to a 3 x 1 matrix with values in the range \n",
    "    # - 1to 1 and mean 0\n",
    "        self.synaptic_weights = 2 * random.random((3,1))-1\n",
    "\n",
    "    def _sigmoid(self, x):\n",
    "        return 1 / (1 + exp(-x))\n",
    "    \n",
    "    # gradient of the sigmoid curve\n",
    "    def _sigmoid_derivative(self, x):\n",
    "        return x * (1-x)\n",
    "\n",
    "    def train(self, training_set_inputs, training_set_outputs, number_of_training_iterations):\n",
    "        \n",
    "        for iteration in xrange(number_of_training_iterations):\n",
    "            # pass the training set through our neural net\n",
    "            output = self.predict(training_set_inputs)\n",
    "\n",
    "            # calculate the error\n",
    "            error = training_set_outputs - output\n",
    "\n",
    "            # input . sigmoid_derivative\n",
    "            # Backpropagation\n",
    "            adjustment = dot(training_set_inputs.T, error * self._sigmoid_derivative(output))\n",
    "\n",
    "            # adjust the weights\n",
    "            self.synaptic_weights += adjustment\n",
    "\n",
    "    def predict(self, inputs):\n",
    "        # pass inputs through our neural network (our single neuron)\n",
    "        return self._sigmoid(dot(inputs, self.synaptic_weights))\n"
   ]
  },
  {
   "cell_type": "markdown",
   "metadata": {},
   "source": [
    "# Putting data into the model and predict output"
   ]
  },
  {
   "cell_type": "code",
   "execution_count": 5,
   "metadata": {
    "collapsed": false
   },
   "outputs": [
    {
     "name": "stdout",
     "output_type": "stream",
     "text": [
      "Random starting synaptic weights:\n",
      "[[-0.16595599]\n",
      " [ 0.44064899]\n",
      " [-0.99977125]]\n",
      "New synaptic weights after training: \n",
      "[[ 9.67299303]\n",
      " [-0.2078435 ]\n",
      " [-4.62963669]]\n",
      "Predicting\n",
      "[ 0.99993704]\n"
     ]
    }
   ],
   "source": [
    "if __name__ == '__main__':\n",
    "\n",
    "    # intialize a single neuron neural network\n",
    "    neural_network = NeuralNetwork()\n",
    "    print 'Random starting synaptic weights:'\n",
    "    print neural_network.synaptic_weights\n",
    "\n",
    "    # The training set. We have 4 examples, each consisting of 3 input values\n",
    "    # and 1 output value\n",
    "    training_set_inputs = array([[0,0,1], [1,1,1], [1,0,1], [0,1,1]])\n",
    "    training_set_outputs = array([[0,1,1,0]]).T\n",
    "\n",
    "    # train the neural network using a traing set\n",
    "    # Do it 10,000 times and make small adjustments each time\n",
    "    neural_network.train(training_set_inputs, training_set_outputs, 10000)\n",
    "\n",
    "    print 'New synaptic weights after training: '\n",
    "    print neural_network.synaptic_weights\n",
    "\n",
    "    # Test the neural network\n",
    "    print 'Predicting'\n",
    "    print neural_network.predict(array([1,0,0]))"
   ]
  }
 ],
 "metadata": {
  "kernelspec": {
   "display_name": "Python 2",
   "language": "python",
   "name": "python2"
  },
  "language_info": {
   "codemirror_mode": {
    "name": "ipython",
    "version": 2
   },
   "file_extension": ".py",
   "mimetype": "text/x-python",
   "name": "python",
   "nbconvert_exporter": "python",
   "pygments_lexer": "ipython2",
   "version": "2.7.13"
  }
 },
 "nbformat": 4,
 "nbformat_minor": 2
}
